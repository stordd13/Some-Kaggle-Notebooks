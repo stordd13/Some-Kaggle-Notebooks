{
 "cells": [
  {
   "cell_type": "code",
   "execution_count": 1,
   "id": "c93e31de",
   "metadata": {
    "_cell_guid": "b1076dfc-b9ad-4769-8c92-a6c4dae69d19",
    "_uuid": "8f2839f25d086af736a60e9eeb907d3b93b6e0e5",
    "execution": {
     "iopub.execute_input": "2021-10-22T13:33:59.952843Z",
     "iopub.status.busy": "2021-10-22T13:33:59.952082Z",
     "iopub.status.idle": "2021-10-22T13:33:59.958531Z",
     "shell.execute_reply": "2021-10-22T13:33:59.957790Z",
     "shell.execute_reply.started": "2021-10-22T13:29:04.864631Z"
    },
    "papermill": {
     "duration": 0.035716,
     "end_time": "2021-10-22T13:33:59.958694",
     "exception": false,
     "start_time": "2021-10-22T13:33:59.922978",
     "status": "completed"
    },
    "tags": []
   },
   "outputs": [
    {
     "name": "stdout",
     "output_type": "stream",
     "text": [
      "/kaggle/input/titanic/train.csv\n",
      "/kaggle/input/titanic/test.csv\n",
      "/kaggle/input/titanic/gender_submission.csv\n"
     ]
    }
   ],
   "source": [
    "# This Python 3 environment comes with many helpful analytics libraries installed\n",
    "# It is defined by the kaggle/python Docker image: https://github.com/kaggle/docker-python\n",
    "# For example, here's several helpful packages to load\n",
    "\n",
    "# Input data files are available in the read-only \"../input/\" directory\n",
    "# For example, running this (by clicking run or pressing Shift+Enter) will list all files under the input directory\n",
    "\n",
    "import os\n",
    "for dirname, _, filenames in os.walk('/kaggle/input'):\n",
    "    for filename in filenames:\n",
    "        print(os.path.join(dirname, filename))\n",
    "\n",
    "# You can write up to 20GB to the current directory (/kaggle/working/) that gets preserved as output when you create a version using \"Save & Run All\" \n",
    "# You can also write temporary files to /kaggle/temp/, but they won't be saved outside of the current session"
   ]
  },
  {
   "cell_type": "code",
   "execution_count": 2,
   "id": "9651ed0b",
   "metadata": {
    "execution": {
     "iopub.execute_input": "2021-10-22T13:33:59.999277Z",
     "iopub.status.busy": "2021-10-22T13:33:59.998466Z",
     "iopub.status.idle": "2021-10-22T13:34:01.416101Z",
     "shell.execute_reply": "2021-10-22T13:34:01.415440Z",
     "shell.execute_reply.started": "2021-10-22T13:29:04.876357Z"
    },
    "papermill": {
     "duration": 1.440611,
     "end_time": "2021-10-22T13:34:01.416262",
     "exception": false,
     "start_time": "2021-10-22T13:33:59.975651",
     "status": "completed"
    },
    "tags": []
   },
   "outputs": [],
   "source": [
    "import numpy as np \n",
    "import pandas as pd \n",
    "import matplotlib.pyplot as plt\n",
    "import seaborn as sns\n",
    "import warnings\n",
    "from sklearn.preprocessing import LabelEncoder\n",
    "from sklearn.preprocessing import MinMaxScaler\n",
    "from sklearn.model_selection import train_test_split\n",
    "from sklearn.metrics import mean_squared_error, accuracy_score\n",
    "from sklearn.ensemble import RandomForestClassifier\n",
    "from sklearn.linear_model import LogisticRegression \n",
    "\n",
    "warnings.filterwarnings(action='ignore')"
   ]
  },
  {
   "cell_type": "code",
   "execution_count": 3,
   "id": "5cfbcc0a",
   "metadata": {
    "execution": {
     "iopub.execute_input": "2021-10-22T13:34:01.454490Z",
     "iopub.status.busy": "2021-10-22T13:34:01.453593Z",
     "iopub.status.idle": "2021-10-22T13:34:01.503082Z",
     "shell.execute_reply": "2021-10-22T13:34:01.503622Z",
     "shell.execute_reply.started": "2021-10-22T13:29:04.889822Z"
    },
    "papermill": {
     "duration": 0.071057,
     "end_time": "2021-10-22T13:34:01.503815",
     "exception": false,
     "start_time": "2021-10-22T13:34:01.432758",
     "status": "completed"
    },
    "tags": []
   },
   "outputs": [
    {
     "data": {
      "text/html": [
       "<div>\n",
       "<style scoped>\n",
       "    .dataframe tbody tr th:only-of-type {\n",
       "        vertical-align: middle;\n",
       "    }\n",
       "\n",
       "    .dataframe tbody tr th {\n",
       "        vertical-align: top;\n",
       "    }\n",
       "\n",
       "    .dataframe thead th {\n",
       "        text-align: right;\n",
       "    }\n",
       "</style>\n",
       "<table border=\"1\" class=\"dataframe\">\n",
       "  <thead>\n",
       "    <tr style=\"text-align: right;\">\n",
       "      <th></th>\n",
       "      <th>PassengerId</th>\n",
       "      <th>Survived</th>\n",
       "      <th>Pclass</th>\n",
       "      <th>Name</th>\n",
       "      <th>Sex</th>\n",
       "      <th>Age</th>\n",
       "      <th>SibSp</th>\n",
       "      <th>Parch</th>\n",
       "      <th>Ticket</th>\n",
       "      <th>Fare</th>\n",
       "      <th>Cabin</th>\n",
       "      <th>Embarked</th>\n",
       "    </tr>\n",
       "  </thead>\n",
       "  <tbody>\n",
       "    <tr>\n",
       "      <th>0</th>\n",
       "      <td>1</td>\n",
       "      <td>0</td>\n",
       "      <td>3</td>\n",
       "      <td>Braund, Mr. Owen Harris</td>\n",
       "      <td>male</td>\n",
       "      <td>22.0</td>\n",
       "      <td>1</td>\n",
       "      <td>0</td>\n",
       "      <td>A/5 21171</td>\n",
       "      <td>7.2500</td>\n",
       "      <td>NaN</td>\n",
       "      <td>S</td>\n",
       "    </tr>\n",
       "    <tr>\n",
       "      <th>1</th>\n",
       "      <td>2</td>\n",
       "      <td>1</td>\n",
       "      <td>1</td>\n",
       "      <td>Cumings, Mrs. John Bradley (Florence Briggs Th...</td>\n",
       "      <td>female</td>\n",
       "      <td>38.0</td>\n",
       "      <td>1</td>\n",
       "      <td>0</td>\n",
       "      <td>PC 17599</td>\n",
       "      <td>71.2833</td>\n",
       "      <td>C85</td>\n",
       "      <td>C</td>\n",
       "    </tr>\n",
       "    <tr>\n",
       "      <th>2</th>\n",
       "      <td>3</td>\n",
       "      <td>1</td>\n",
       "      <td>3</td>\n",
       "      <td>Heikkinen, Miss. Laina</td>\n",
       "      <td>female</td>\n",
       "      <td>26.0</td>\n",
       "      <td>0</td>\n",
       "      <td>0</td>\n",
       "      <td>STON/O2. 3101282</td>\n",
       "      <td>7.9250</td>\n",
       "      <td>NaN</td>\n",
       "      <td>S</td>\n",
       "    </tr>\n",
       "    <tr>\n",
       "      <th>3</th>\n",
       "      <td>4</td>\n",
       "      <td>1</td>\n",
       "      <td>1</td>\n",
       "      <td>Futrelle, Mrs. Jacques Heath (Lily May Peel)</td>\n",
       "      <td>female</td>\n",
       "      <td>35.0</td>\n",
       "      <td>1</td>\n",
       "      <td>0</td>\n",
       "      <td>113803</td>\n",
       "      <td>53.1000</td>\n",
       "      <td>C123</td>\n",
       "      <td>S</td>\n",
       "    </tr>\n",
       "    <tr>\n",
       "      <th>4</th>\n",
       "      <td>5</td>\n",
       "      <td>0</td>\n",
       "      <td>3</td>\n",
       "      <td>Allen, Mr. William Henry</td>\n",
       "      <td>male</td>\n",
       "      <td>35.0</td>\n",
       "      <td>0</td>\n",
       "      <td>0</td>\n",
       "      <td>373450</td>\n",
       "      <td>8.0500</td>\n",
       "      <td>NaN</td>\n",
       "      <td>S</td>\n",
       "    </tr>\n",
       "  </tbody>\n",
       "</table>\n",
       "</div>"
      ],
      "text/plain": [
       "   PassengerId  Survived  Pclass  \\\n",
       "0            1         0       3   \n",
       "1            2         1       1   \n",
       "2            3         1       3   \n",
       "3            4         1       1   \n",
       "4            5         0       3   \n",
       "\n",
       "                                                Name     Sex   Age  SibSp  \\\n",
       "0                            Braund, Mr. Owen Harris    male  22.0      1   \n",
       "1  Cumings, Mrs. John Bradley (Florence Briggs Th...  female  38.0      1   \n",
       "2                             Heikkinen, Miss. Laina  female  26.0      0   \n",
       "3       Futrelle, Mrs. Jacques Heath (Lily May Peel)  female  35.0      1   \n",
       "4                           Allen, Mr. William Henry    male  35.0      0   \n",
       "\n",
       "   Parch            Ticket     Fare Cabin Embarked  \n",
       "0      0         A/5 21171   7.2500   NaN        S  \n",
       "1      0          PC 17599  71.2833   C85        C  \n",
       "2      0  STON/O2. 3101282   7.9250   NaN        S  \n",
       "3      0            113803  53.1000  C123        S  \n",
       "4      0            373450   8.0500   NaN        S  "
      ]
     },
     "execution_count": 3,
     "metadata": {},
     "output_type": "execute_result"
    }
   ],
   "source": [
    "train = pd.read_csv(\"../input/titanic/train.csv\")\n",
    "test = pd.read_csv(\"../input/titanic/test.csv\")\n",
    "train.head()\n"
   ]
  },
  {
   "cell_type": "code",
   "execution_count": 4,
   "id": "af69647a",
   "metadata": {
    "execution": {
     "iopub.execute_input": "2021-10-22T13:34:01.542586Z",
     "iopub.status.busy": "2021-10-22T13:34:01.541653Z",
     "iopub.status.idle": "2021-10-22T13:34:01.560441Z",
     "shell.execute_reply": "2021-10-22T13:34:01.559804Z",
     "shell.execute_reply.started": "2021-10-22T13:29:04.925631Z"
    },
    "papermill": {
     "duration": 0.038909,
     "end_time": "2021-10-22T13:34:01.560584",
     "exception": false,
     "start_time": "2021-10-22T13:34:01.521675",
     "status": "completed"
    },
    "tags": []
   },
   "outputs": [],
   "source": [
    "full = pd.concat([train,test])\n",
    "y = train.Survived\n",
    "full.drop(['Survived','PassengerId'],axis=1,inplace=True)"
   ]
  },
  {
   "cell_type": "code",
   "execution_count": 5,
   "id": "a9c7a464",
   "metadata": {
    "execution": {
     "iopub.execute_input": "2021-10-22T13:34:01.608254Z",
     "iopub.status.busy": "2021-10-22T13:34:01.607527Z",
     "iopub.status.idle": "2021-10-22T13:34:01.613387Z",
     "shell.execute_reply": "2021-10-22T13:34:01.614084Z",
     "shell.execute_reply.started": "2021-10-22T13:29:04.940162Z"
    },
    "papermill": {
     "duration": 0.036549,
     "end_time": "2021-10-22T13:34:01.614301",
     "exception": false,
     "start_time": "2021-10-22T13:34:01.577752",
     "status": "completed"
    },
    "tags": []
   },
   "outputs": [
    {
     "name": "stdout",
     "output_type": "stream",
     "text": [
      "(1309, 10)\n"
     ]
    },
    {
     "data": {
      "text/html": [
       "<div>\n",
       "<style scoped>\n",
       "    .dataframe tbody tr th:only-of-type {\n",
       "        vertical-align: middle;\n",
       "    }\n",
       "\n",
       "    .dataframe tbody tr th {\n",
       "        vertical-align: top;\n",
       "    }\n",
       "\n",
       "    .dataframe thead th {\n",
       "        text-align: right;\n",
       "    }\n",
       "</style>\n",
       "<table border=\"1\" class=\"dataframe\">\n",
       "  <thead>\n",
       "    <tr style=\"text-align: right;\">\n",
       "      <th></th>\n",
       "      <th>Pclass</th>\n",
       "      <th>Name</th>\n",
       "      <th>Sex</th>\n",
       "      <th>Age</th>\n",
       "      <th>SibSp</th>\n",
       "      <th>Parch</th>\n",
       "      <th>Ticket</th>\n",
       "      <th>Fare</th>\n",
       "      <th>Cabin</th>\n",
       "      <th>Embarked</th>\n",
       "    </tr>\n",
       "  </thead>\n",
       "  <tbody>\n",
       "    <tr>\n",
       "      <th>0</th>\n",
       "      <td>3</td>\n",
       "      <td>Braund, Mr. Owen Harris</td>\n",
       "      <td>male</td>\n",
       "      <td>22.0</td>\n",
       "      <td>1</td>\n",
       "      <td>0</td>\n",
       "      <td>A/5 21171</td>\n",
       "      <td>7.2500</td>\n",
       "      <td>NaN</td>\n",
       "      <td>S</td>\n",
       "    </tr>\n",
       "    <tr>\n",
       "      <th>1</th>\n",
       "      <td>1</td>\n",
       "      <td>Cumings, Mrs. John Bradley (Florence Briggs Th...</td>\n",
       "      <td>female</td>\n",
       "      <td>38.0</td>\n",
       "      <td>1</td>\n",
       "      <td>0</td>\n",
       "      <td>PC 17599</td>\n",
       "      <td>71.2833</td>\n",
       "      <td>C85</td>\n",
       "      <td>C</td>\n",
       "    </tr>\n",
       "    <tr>\n",
       "      <th>2</th>\n",
       "      <td>3</td>\n",
       "      <td>Heikkinen, Miss. Laina</td>\n",
       "      <td>female</td>\n",
       "      <td>26.0</td>\n",
       "      <td>0</td>\n",
       "      <td>0</td>\n",
       "      <td>STON/O2. 3101282</td>\n",
       "      <td>7.9250</td>\n",
       "      <td>NaN</td>\n",
       "      <td>S</td>\n",
       "    </tr>\n",
       "    <tr>\n",
       "      <th>3</th>\n",
       "      <td>1</td>\n",
       "      <td>Futrelle, Mrs. Jacques Heath (Lily May Peel)</td>\n",
       "      <td>female</td>\n",
       "      <td>35.0</td>\n",
       "      <td>1</td>\n",
       "      <td>0</td>\n",
       "      <td>113803</td>\n",
       "      <td>53.1000</td>\n",
       "      <td>C123</td>\n",
       "      <td>S</td>\n",
       "    </tr>\n",
       "    <tr>\n",
       "      <th>4</th>\n",
       "      <td>3</td>\n",
       "      <td>Allen, Mr. William Henry</td>\n",
       "      <td>male</td>\n",
       "      <td>35.0</td>\n",
       "      <td>0</td>\n",
       "      <td>0</td>\n",
       "      <td>373450</td>\n",
       "      <td>8.0500</td>\n",
       "      <td>NaN</td>\n",
       "      <td>S</td>\n",
       "    </tr>\n",
       "  </tbody>\n",
       "</table>\n",
       "</div>"
      ],
      "text/plain": [
       "   Pclass                                               Name     Sex   Age  \\\n",
       "0       3                            Braund, Mr. Owen Harris    male  22.0   \n",
       "1       1  Cumings, Mrs. John Bradley (Florence Briggs Th...  female  38.0   \n",
       "2       3                             Heikkinen, Miss. Laina  female  26.0   \n",
       "3       1       Futrelle, Mrs. Jacques Heath (Lily May Peel)  female  35.0   \n",
       "4       3                           Allen, Mr. William Henry    male  35.0   \n",
       "\n",
       "   SibSp  Parch            Ticket     Fare Cabin Embarked  \n",
       "0      1      0         A/5 21171   7.2500   NaN        S  \n",
       "1      1      0          PC 17599  71.2833   C85        C  \n",
       "2      0      0  STON/O2. 3101282   7.9250   NaN        S  \n",
       "3      1      0            113803  53.1000  C123        S  \n",
       "4      0      0            373450   8.0500   NaN        S  "
      ]
     },
     "execution_count": 5,
     "metadata": {},
     "output_type": "execute_result"
    }
   ],
   "source": [
    "print(full.shape)\n",
    "full.head()"
   ]
  },
  {
   "cell_type": "code",
   "execution_count": 6,
   "id": "898bc0a6",
   "metadata": {
    "execution": {
     "iopub.execute_input": "2021-10-22T13:34:01.662667Z",
     "iopub.status.busy": "2021-10-22T13:34:01.661950Z",
     "iopub.status.idle": "2021-10-22T13:34:01.664783Z",
     "shell.execute_reply": "2021-10-22T13:34:01.665305Z",
     "shell.execute_reply.started": "2021-10-22T13:29:04.960508Z"
    },
    "papermill": {
     "duration": 0.033001,
     "end_time": "2021-10-22T13:34:01.665476",
     "exception": false,
     "start_time": "2021-10-22T13:34:01.632475",
     "status": "completed"
    },
    "tags": []
   },
   "outputs": [],
   "source": [
    "full.drop('Cabin',axis=1,inplace=True)\n",
    "full['Age'] = full['Age'].fillna(full['Age'].median())\n",
    "full['Embarked'] = full['Embarked'].fillna(full['Embarked'].mode().iloc[0])\n",
    "full['Fare'] = full['Fare'].fillna(full['Fare'].median())\n"
   ]
  },
  {
   "cell_type": "code",
   "execution_count": 7,
   "id": "d0cdedd0",
   "metadata": {
    "execution": {
     "iopub.execute_input": "2021-10-22T13:34:01.704344Z",
     "iopub.status.busy": "2021-10-22T13:34:01.703616Z",
     "iopub.status.idle": "2021-10-22T13:34:01.722817Z",
     "shell.execute_reply": "2021-10-22T13:34:01.723313Z",
     "shell.execute_reply.started": "2021-10-22T13:29:04.972972Z"
    },
    "papermill": {
     "duration": 0.04024,
     "end_time": "2021-10-22T13:34:01.723496",
     "exception": false,
     "start_time": "2021-10-22T13:34:01.683256",
     "status": "completed"
    },
    "tags": []
   },
   "outputs": [],
   "source": [
    "cat_cols = ['Pclass','Sex','Embarked']\n",
    "num_cols = ['Age','SibSp','Parch','Fare']\n",
    "full.drop(['Name','Ticket'],axis=1,inplace=True)\n",
    "#full = full.select_dtypes(include='float64').astype('int')\n",
    "le = LabelEncoder()\n",
    "scaler = MinMaxScaler()\n",
    "\n",
    "full['Sex'] = le.fit_transform(full['Sex'])\n",
    "for col in ['Pclass','Embarked']:\n",
    "    full = pd.concat([full,pd.get_dummies(full[col],prefix=col)],axis=1)\n",
    "    full.drop(col,axis=1,inplace=True)\n",
    "for col in num_cols:\n",
    "    full[col] = scaler.fit_transform(np.array(full[col]).reshape(-1,1))\n",
    "\n",
    "#train[\"Age\"] = train[\"Age\"].fillna(train[\"Age\"].median())\n",
    "#test[\"Age\"] = test[\"Age\"].fillna(test[\"Age\"].median())\n",
    "\n",
    "#train['HasCabin'] = train['Cabin'].apply(lambda x:0 if x is np.nan else 1)\n",
    "#test['HasCabin'] = test['Cabin'].apply(lambda x:0 if x is np.nan else 1)\n",
    "\n",
    "#sex_mapping = {\"male\": 0, \"female\": 1}\n",
    "#for dataset in all_data:\n",
    "#train['Sex'] = train['Sex'].map(sex_mapping)\n",
    "#test['Sex'] = test['Sex'].map(sex_mapping)\n",
    "\n",
    "\n",
    "#test[\"Age\"].fillna(test.groupby(\"Status\")[\"Age\"].transform(\"median\"), inplace=True)"
   ]
  },
  {
   "cell_type": "code",
   "execution_count": 8,
   "id": "47b3770d",
   "metadata": {
    "execution": {
     "iopub.execute_input": "2021-10-22T13:34:01.762287Z",
     "iopub.status.busy": "2021-10-22T13:34:01.761623Z",
     "iopub.status.idle": "2021-10-22T13:34:01.768043Z",
     "shell.execute_reply": "2021-10-22T13:34:01.768604Z",
     "shell.execute_reply.started": "2021-10-22T13:29:04.994790Z"
    },
    "papermill": {
     "duration": 0.027195,
     "end_time": "2021-10-22T13:34:01.768788",
     "exception": false,
     "start_time": "2021-10-22T13:34:01.741593",
     "status": "completed"
    },
    "tags": []
   },
   "outputs": [
    {
     "name": "stdout",
     "output_type": "stream",
     "text": [
      "train size now : (891, 11) \n",
      " test size now : (418, 11) \n",
      " train size before : (891, 12) \n",
      " test size before : (418, 11)\n"
     ]
    }
   ],
   "source": [
    "df_train = full[:train.shape[0]]\n",
    "df_test = full[train.shape[0]:]\n",
    "y = train.Survived\n",
    "\n",
    "print('train size now : {} \\n test size now : {} \\n train size before : {} \\n test size before : {}'\n",
    "     .format(df_train.shape,df_test.shape,train.shape,test.shape))"
   ]
  },
  {
   "cell_type": "code",
   "execution_count": 9,
   "id": "1d57ceec",
   "metadata": {
    "execution": {
     "iopub.execute_input": "2021-10-22T13:34:01.815679Z",
     "iopub.status.busy": "2021-10-22T13:34:01.814970Z",
     "iopub.status.idle": "2021-10-22T13:34:01.816696Z",
     "shell.execute_reply": "2021-10-22T13:34:01.817252Z",
     "shell.execute_reply.started": "2021-10-22T13:29:05.115013Z"
    },
    "papermill": {
     "duration": 0.030105,
     "end_time": "2021-10-22T13:34:01.817428",
     "exception": false,
     "start_time": "2021-10-22T13:34:01.787323",
     "status": "completed"
    },
    "tags": []
   },
   "outputs": [],
   "source": [
    "def correlation_heatmap(df):\n",
    "    _ , ax = plt.subplots(figsize =(14, 12))\n",
    "    colormap = sns.diverging_palette(220, 10, as_cmap = True)\n",
    "    \n",
    "    _ = sns.heatmap(\n",
    "        df.corr(), \n",
    "        cmap = colormap,\n",
    "        square=True, \n",
    "        cbar_kws={'shrink':.9 }, \n",
    "        ax=ax,\n",
    "        annot=True, \n",
    "        linewidths=0.1,vmax=1.0, linecolor='white',\n",
    "        annot_kws={'fontsize':12 }\n",
    "    )\n",
    "    \n",
    "    plt.title('Pearson Correlation of Features', y=1.05, size=15)\n",
    "\n",
    "#correlation_heatmap(train)\n",
    "#train.columns\n",
    "#X=train.copy()"
   ]
  },
  {
   "cell_type": "code",
   "execution_count": 10,
   "id": "4b513d98",
   "metadata": {
    "execution": {
     "iopub.execute_input": "2021-10-22T13:34:01.857602Z",
     "iopub.status.busy": "2021-10-22T13:34:01.856942Z",
     "iopub.status.idle": "2021-10-22T13:34:01.860039Z",
     "shell.execute_reply": "2021-10-22T13:34:01.860573Z",
     "shell.execute_reply.started": "2021-10-22T13:29:05.121955Z"
    },
    "papermill": {
     "duration": 0.024555,
     "end_time": "2021-10-22T13:34:01.860788",
     "exception": false,
     "start_time": "2021-10-22T13:34:01.836233",
     "status": "completed"
    },
    "tags": []
   },
   "outputs": [],
   "source": [
    "#X = X.drop([\"PassengerId\",\"Name\",\"SibSp\",\"Ticket\",\"Cabin\"],axis=1)"
   ]
  },
  {
   "cell_type": "code",
   "execution_count": 11,
   "id": "e86968c4",
   "metadata": {
    "execution": {
     "iopub.execute_input": "2021-10-22T13:34:01.900432Z",
     "iopub.status.busy": "2021-10-22T13:34:01.899783Z",
     "iopub.status.idle": "2021-10-22T13:34:01.902539Z",
     "shell.execute_reply": "2021-10-22T13:34:01.903159Z",
     "shell.execute_reply.started": "2021-10-22T13:29:05.135464Z"
    },
    "papermill": {
     "duration": 0.024381,
     "end_time": "2021-10-22T13:34:01.903327",
     "exception": false,
     "start_time": "2021-10-22T13:34:01.878946",
     "status": "completed"
    },
    "tags": []
   },
   "outputs": [],
   "source": [
    "#print(X.shape)\n",
    "#train[\"Embarked\"] = train[\"Embarked\"].fillna('S')\n",
    "#test[\"Embarked\"] = test[\"Embarked\"].fillna('S')"
   ]
  },
  {
   "cell_type": "code",
   "execution_count": 12,
   "id": "95e653c8",
   "metadata": {
    "execution": {
     "iopub.execute_input": "2021-10-22T13:34:01.943798Z",
     "iopub.status.busy": "2021-10-22T13:34:01.943151Z",
     "iopub.status.idle": "2021-10-22T13:34:01.945856Z",
     "shell.execute_reply": "2021-10-22T13:34:01.946409Z",
     "shell.execute_reply.started": "2021-10-22T13:29:05.146491Z"
    },
    "papermill": {
     "duration": 0.025092,
     "end_time": "2021-10-22T13:34:01.946573",
     "exception": false,
     "start_time": "2021-10-22T13:34:01.921481",
     "status": "completed"
    },
    "tags": []
   },
   "outputs": [],
   "source": [
    "#train.isna().sum()\n",
    "#X[\"Age\"] = X[\"Age\"].fillna(X[\"Age\"].median())"
   ]
  },
  {
   "cell_type": "code",
   "execution_count": 13,
   "id": "3f0ea5fb",
   "metadata": {
    "execution": {
     "iopub.execute_input": "2021-10-22T13:34:01.986237Z",
     "iopub.status.busy": "2021-10-22T13:34:01.985496Z",
     "iopub.status.idle": "2021-10-22T13:34:01.993430Z",
     "shell.execute_reply": "2021-10-22T13:34:01.993969Z",
     "shell.execute_reply.started": "2021-10-22T13:29:05.158659Z"
    },
    "papermill": {
     "duration": 0.029307,
     "end_time": "2021-10-22T13:34:01.994163",
     "exception": false,
     "start_time": "2021-10-22T13:34:01.964856",
     "status": "completed"
    },
    "tags": []
   },
   "outputs": [],
   "source": [
    "#features = [\"Pclass\",\"Sex\",\"Age\",\"Embarked\",\"Fare\",\"HasCabin\"]\n",
    "#y_full = train.Survived\n",
    "#X_full = pd.get_dummies(train[features])\n",
    "\n",
    "#X_test_full = pd.get_dummies(test[features])\n",
    "\n",
    "X_train, X_valid, y_train, y_valid = train_test_split(df_train, y, train_size=0.8, test_size=0.2,random_state=42)\n",
    "#nan = X[\"Embarked\"].loc[X[\"Embarked\"].isna()]\n",
    "#X = X.drop(index=nan.index)\n",
    "#y = X.Survived\n",
    "#X = X.drop(\"Survived\",axis=1)"
   ]
  },
  {
   "cell_type": "code",
   "execution_count": 14,
   "id": "e9c6223d",
   "metadata": {
    "execution": {
     "iopub.execute_input": "2021-10-22T13:34:02.034183Z",
     "iopub.status.busy": "2021-10-22T13:34:02.033438Z",
     "iopub.status.idle": "2021-10-22T13:34:02.410886Z",
     "shell.execute_reply": "2021-10-22T13:34:02.410233Z",
     "shell.execute_reply.started": "2021-10-22T13:30:44.094827Z"
    },
    "papermill": {
     "duration": 0.39849,
     "end_time": "2021-10-22T13:34:02.411064",
     "exception": false,
     "start_time": "2021-10-22T13:34:02.012574",
     "status": "completed"
    },
    "tags": []
   },
   "outputs": [
    {
     "data": {
      "text/plain": [
       "RandomForestClassifier(max_depth=4, n_jobs=10, random_state=42)"
      ]
     },
     "execution_count": 14,
     "metadata": {},
     "output_type": "execute_result"
    }
   ],
   "source": [
    "# RANDOM FOREST \n",
    "\n",
    "model = RandomForestClassifier(n_jobs=10,max_depth=4,random_state=42)\n",
    "#model.fit(X_train,y_train)\n",
    "#predictions = model.predict(X_valid)\n",
    "#accuracy_score(predictions,y_valid)\n",
    "model.fit(df_train,y)"
   ]
  },
  {
   "cell_type": "code",
   "execution_count": 15,
   "id": "fea6435b",
   "metadata": {
    "execution": {
     "iopub.execute_input": "2021-10-22T13:34:02.455888Z",
     "iopub.status.busy": "2021-10-22T13:34:02.454941Z",
     "iopub.status.idle": "2021-10-22T13:34:02.480684Z",
     "shell.execute_reply": "2021-10-22T13:34:02.480128Z",
     "shell.execute_reply.started": "2021-10-22T13:29:58.901183Z"
    },
    "papermill": {
     "duration": 0.051063,
     "end_time": "2021-10-22T13:34:02.480822",
     "exception": false,
     "start_time": "2021-10-22T13:34:02.429759",
     "status": "completed"
    },
    "tags": []
   },
   "outputs": [
    {
     "data": {
      "text/plain": [
       "0.7988826815642458"
      ]
     },
     "execution_count": 15,
     "metadata": {},
     "output_type": "execute_result"
    }
   ],
   "source": [
    "#LOGISTIC REGRESSION\n",
    "\n",
    "model2 = LogisticRegression()\n",
    "model2.fit(X_train,y_train)\n",
    "pred = model2.predict(X_valid)\n",
    "accuracy_score(pred,y_valid)\n",
    "\n",
    "#X_test_full[\"Fare\"]=X_test_full[\"Fare\"].fillna(X_test_full[\"Fare\"].median())\n"
   ]
  },
  {
   "cell_type": "code",
   "execution_count": 16,
   "id": "b3f37fd5",
   "metadata": {
    "execution": {
     "iopub.execute_input": "2021-10-22T13:34:02.524208Z",
     "iopub.status.busy": "2021-10-22T13:34:02.523540Z",
     "iopub.status.idle": "2021-10-22T13:34:02.643147Z",
     "shell.execute_reply": "2021-10-22T13:34:02.642559Z",
     "shell.execute_reply.started": "2021-10-22T13:33:11.726800Z"
    },
    "papermill": {
     "duration": 0.14353,
     "end_time": "2021-10-22T13:34:02.643301",
     "exception": false,
     "start_time": "2021-10-22T13:34:02.499771",
     "status": "completed"
    },
    "tags": []
   },
   "outputs": [],
   "source": [
    "gender_submission = pd.read_csv(\"../input/titanic/gender_submission.csv\")\n",
    "#submission = model.predict(df_test)\n",
    "gender_submission['Survived'] = model.predict(df_test)\n",
    "gender_submission.to_csv(\"sub.csv\",index=False)\n"
   ]
  },
  {
   "cell_type": "code",
   "execution_count": 17,
   "id": "e2e9e786",
   "metadata": {
    "execution": {
     "iopub.execute_input": "2021-10-22T13:34:02.686417Z",
     "iopub.status.busy": "2021-10-22T13:34:02.685603Z",
     "iopub.status.idle": "2021-10-22T13:34:02.687747Z",
     "shell.execute_reply": "2021-10-22T13:34:02.688271Z",
     "shell.execute_reply.started": "2021-10-22T13:29:05.926757Z"
    },
    "papermill": {
     "duration": 0.025771,
     "end_time": "2021-10-22T13:34:02.688446",
     "exception": false,
     "start_time": "2021-10-22T13:34:02.662675",
     "status": "completed"
    },
    "tags": []
   },
   "outputs": [],
   "source": [
    "\n",
    "#output = pd.DataFrame({\"PassengerId\" : test.PassengerId, \"Survived\" : submission})\n",
    "\n"
   ]
  },
  {
   "cell_type": "code",
   "execution_count": 18,
   "id": "86cf1823",
   "metadata": {
    "execution": {
     "iopub.execute_input": "2021-10-22T13:34:02.729775Z",
     "iopub.status.busy": "2021-10-22T13:34:02.729140Z",
     "iopub.status.idle": "2021-10-22T13:34:02.731923Z",
     "shell.execute_reply": "2021-10-22T13:34:02.732490Z",
     "shell.execute_reply.started": "2021-10-22T13:29:05.928337Z"
    },
    "papermill": {
     "duration": 0.02527,
     "end_time": "2021-10-22T13:34:02.732658",
     "exception": false,
     "start_time": "2021-10-22T13:34:02.707388",
     "status": "completed"
    },
    "tags": []
   },
   "outputs": [],
   "source": [
    "#gender_submission = output\n",
    "#output.to_csv(\"submission.csv\",index=False)"
   ]
  },
  {
   "cell_type": "code",
   "execution_count": null,
   "id": "d3237f64",
   "metadata": {
    "papermill": {
     "duration": 0.018308,
     "end_time": "2021-10-22T13:34:02.769781",
     "exception": false,
     "start_time": "2021-10-22T13:34:02.751473",
     "status": "completed"
    },
    "tags": []
   },
   "outputs": [],
   "source": []
  }
 ],
 "metadata": {
  "kernelspec": {
   "display_name": "Python 3",
   "language": "python",
   "name": "python3"
  },
  "language_info": {
   "codemirror_mode": {
    "name": "ipython",
    "version": 3
   },
   "file_extension": ".py",
   "mimetype": "text/x-python",
   "name": "python",
   "nbconvert_exporter": "python",
   "pygments_lexer": "ipython3",
   "version": "3.7.10"
  },
  "papermill": {
   "default_parameters": {},
   "duration": 11.703971,
   "end_time": "2021-10-22T13:34:03.398359",
   "environment_variables": {},
   "exception": null,
   "input_path": "__notebook__.ipynb",
   "output_path": "__notebook__.ipynb",
   "parameters": {},
   "start_time": "2021-10-22T13:33:51.694388",
   "version": "2.3.3"
  }
 },
 "nbformat": 4,
 "nbformat_minor": 5
}
