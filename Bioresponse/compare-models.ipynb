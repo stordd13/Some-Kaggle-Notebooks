{
 "cells": [
  {
   "cell_type": "code",
   "execution_count": 1,
   "id": "8cc12b1a",
   "metadata": {
    "_cell_guid": "b1076dfc-b9ad-4769-8c92-a6c4dae69d19",
    "_uuid": "8f2839f25d086af736a60e9eeb907d3b93b6e0e5",
    "execution": {
     "iopub.execute_input": "2022-05-31T10:41:27.693076Z",
     "iopub.status.busy": "2022-05-31T10:41:27.692550Z",
     "iopub.status.idle": "2022-05-31T10:41:27.704309Z",
     "shell.execute_reply": "2022-05-31T10:41:27.703776Z"
    },
    "papermill": {
     "duration": 0.031575,
     "end_time": "2022-05-31T10:41:27.707423",
     "exception": false,
     "start_time": "2022-05-31T10:41:27.675848",
     "status": "completed"
    },
    "tags": []
   },
   "outputs": [
    {
     "name": "stdout",
     "output_type": "stream",
     "text": [
      "/kaggle/input/bioresponse/svm_benchmark.csv\n",
      "/kaggle/input/bioresponse/train.csv\n",
      "/kaggle/input/bioresponse/test.csv\n"
     ]
    }
   ],
   "source": [
    "# This Python 3 environment comes with many helpful analytics libraries installed\n",
    "# It is defined by the kaggle/python Docker image: https://github.com/kaggle/docker-python\n",
    "# For example, here's several helpful packages to load\n",
    "\n",
    "import numpy as np # linear algebra\n",
    "import pandas as pd # data processing, CSV file I/O (e.g. pd.read_csv)\n",
    "\n",
    "# Input data files are available in the read-only \"../input/\" directory\n",
    "# For example, running this (by clicking run or pressing Shift+Enter) will list all files under the input directory\n",
    "\n",
    "import os\n",
    "for dirname, _, filenames in os.walk('/kaggle/input'):\n",
    "    for filename in filenames:\n",
    "        print(os.path.join(dirname, filename))\n",
    "\n",
    "# You can write up to 20GB to the current directory (/kaggle/working/) that gets preserved as output when you create a version using \"Save & Run All\" \n",
    "# You can also write temporary files to /kaggle/temp/, but they won't be saved outside of the current session"
   ]
  },
  {
   "cell_type": "code",
   "execution_count": 2,
   "id": "87a6f9bc",
   "metadata": {
    "execution": {
     "iopub.execute_input": "2022-05-31T10:41:27.739422Z",
     "iopub.status.busy": "2022-05-31T10:41:27.738852Z",
     "iopub.status.idle": "2022-05-31T10:41:30.566920Z",
     "shell.execute_reply": "2022-05-31T10:41:30.566081Z"
    },
    "papermill": {
     "duration": 2.845729,
     "end_time": "2022-05-31T10:41:30.569163",
     "exception": false,
     "start_time": "2022-05-31T10:41:27.723434",
     "status": "completed"
    },
    "tags": []
   },
   "outputs": [
    {
     "data": {
      "text/html": [
       "<style type='text/css'>\n",
       ".datatable table.frame { margin-bottom: 0; }\n",
       ".datatable table.frame thead { border-bottom: none; }\n",
       ".datatable table.frame tr.coltypes td {  color: #FFFFFF;  line-height: 6px;  padding: 0 0.5em;}\n",
       ".datatable .bool    { background: #DDDD99; }\n",
       ".datatable .object  { background: #565656; }\n",
       ".datatable .int     { background: #5D9E5D; }\n",
       ".datatable .float   { background: #4040CC; }\n",
       ".datatable .str     { background: #CC4040; }\n",
       ".datatable .time    { background: #40CC40; }\n",
       ".datatable .row_index {  background: var(--jp-border-color3);  border-right: 1px solid var(--jp-border-color0);  color: var(--jp-ui-font-color3);  font-size: 9px;}\n",
       ".datatable .frame tbody td { text-align: left; }\n",
       ".datatable .frame tr.coltypes .row_index {  background: var(--jp-border-color0);}\n",
       ".datatable th:nth-child(2) { padding-left: 12px; }\n",
       ".datatable .hellipsis {  color: var(--jp-cell-editor-border-color);}\n",
       ".datatable .vellipsis {  background: var(--jp-layout-color0);  color: var(--jp-cell-editor-border-color);}\n",
       ".datatable .na {  color: var(--jp-cell-editor-border-color);  font-size: 80%;}\n",
       ".datatable .sp {  opacity: 0.25;}\n",
       ".datatable .footer { font-size: 9px; }\n",
       ".datatable .frame_dimensions {  background: var(--jp-border-color3);  border-top: 1px solid var(--jp-border-color0);  color: var(--jp-ui-font-color3);  display: inline-block;  opacity: 0.6;  padding: 1px 10px 1px 5px;}\n",
       "</style>\n"
      ],
      "text/plain": [
       "<IPython.core.display.HTML object>"
      ]
     },
     "metadata": {},
     "output_type": "display_data"
    }
   ],
   "source": [
    "import pandas as pd\n",
    "import numpy as np \n",
    "\n",
    "import sklearn\n",
    "from sklearn.model_selection import train_test_split,RandomizedSearchCV, GridSearchCV, StratifiedKFold\n",
    "from sklearn.feature_selection import SelectKBest, RFE, SelectFromModel\n",
    "from sklearn.ensemble import RandomForestClassifier, AdaBoostClassifier, GradientBoostingClassifier, ExtraTreesClassifier \n",
    "from sklearn.metrics import confusion_matrix,plot_confusion_matrix, ConfusionMatrixDisplay\n",
    "from sklearn.linear_model import Perceptron, SGDClassifier, LogisticRegression\n",
    "from sklearn.preprocessing import OneHotEncoder, MinMaxScaler, StandardScaler\n",
    "from xgboost import XGBClassifier\n",
    "from sklearn.metrics import roc_auc_score, accuracy_score, log_loss, mean_absolute_error\n",
    "from sklearn.decomposition import PCA\n",
    "from sklearn import pipeline\n",
    "import lightgbm as lgb\n",
    "\n",
    "## for visualization\n",
    "import plotly.express as px\n",
    "import matplotlib\n",
    "from matplotlib import pyplot as plt\n",
    "import seaborn as sns\n",
    "\n",
    "plt.style.use('ggplot')"
   ]
  },
  {
   "cell_type": "code",
   "execution_count": 3,
   "id": "1bdd126f",
   "metadata": {
    "execution": {
     "iopub.execute_input": "2022-05-31T10:41:30.601780Z",
     "iopub.status.busy": "2022-05-31T10:41:30.601506Z",
     "iopub.status.idle": "2022-05-31T10:41:32.136173Z",
     "shell.execute_reply": "2022-05-31T10:41:32.135486Z"
    },
    "papermill": {
     "duration": 1.554005,
     "end_time": "2022-05-31T10:41:32.138576",
     "exception": false,
     "start_time": "2022-05-31T10:41:30.584571",
     "status": "completed"
    },
    "tags": []
   },
   "outputs": [],
   "source": [
    "df_train = pd.read_csv(\"../input/bioresponse/train.csv\")\n",
    "df_test = pd.read_csv(\"../input/bioresponse/test.csv\")\n",
    "benchmark= pd.read_csv(\"../input/bioresponse/svm_benchmark.csv\")"
   ]
  },
  {
   "cell_type": "code",
   "execution_count": 4,
   "id": "cfea1583",
   "metadata": {
    "execution": {
     "iopub.execute_input": "2022-05-31T10:41:32.172176Z",
     "iopub.status.busy": "2022-05-31T10:41:32.171933Z",
     "iopub.status.idle": "2022-05-31T10:41:32.419569Z",
     "shell.execute_reply": "2022-05-31T10:41:32.418700Z"
    },
    "papermill": {
     "duration": 0.266817,
     "end_time": "2022-05-31T10:41:32.422026",
     "exception": false,
     "start_time": "2022-05-31T10:41:32.155209",
     "status": "completed"
    },
    "tags": []
   },
   "outputs": [],
   "source": [
    "Y = df_train.Activity\n",
    "X = df_train.drop('Activity', axis=1)\n",
    "scaler = StandardScaler()\n",
    "X_scaled = scaler.fit_transform(X)\n",
    "X_test_scaled = scaler.transform(df_test)\n",
    "\n",
    "\n"
   ]
  },
  {
   "cell_type": "code",
   "execution_count": 5,
   "id": "f3fa91c1",
   "metadata": {
    "execution": {
     "iopub.execute_input": "2022-05-31T10:41:32.455588Z",
     "iopub.status.busy": "2022-05-31T10:41:32.454825Z",
     "iopub.status.idle": "2022-05-31T10:41:36.532730Z",
     "shell.execute_reply": "2022-05-31T10:41:36.531777Z"
    },
    "papermill": {
     "duration": 4.100072,
     "end_time": "2022-05-31T10:41:36.537949",
     "exception": false,
     "start_time": "2022-05-31T10:41:32.437877",
     "status": "completed"
    },
    "tags": []
   },
   "outputs": [
    {
     "name": "stdout",
     "output_type": "stream",
     "text": [
      "variance ratio : [1.08386286e+01 6.16454225e+00 4.00120797e+00 ... 6.29628914e-32\n",
      " 6.29628914e-32 6.29628914e-32]\n"
     ]
    }
   ],
   "source": [
    "pca_1776 = PCA(n_components=1776)\n",
    "pca_1776.fit(X_scaled)\n",
    "X_scaled_1776 = pca_1776.transform(X_scaled)\n",
    "print('variance ratio :', pca_1776.explained_variance_ratio_*100)"
   ]
  },
  {
   "cell_type": "code",
   "execution_count": 6,
   "id": "d8a9e34c",
   "metadata": {
    "execution": {
     "iopub.execute_input": "2022-05-31T10:41:36.597683Z",
     "iopub.status.busy": "2022-05-31T10:41:36.597238Z",
     "iopub.status.idle": "2022-05-31T10:41:36.851218Z",
     "shell.execute_reply": "2022-05-31T10:41:36.850366Z"
    },
    "papermill": {
     "duration": 0.286689,
     "end_time": "2022-05-31T10:41:36.853410",
     "exception": false,
     "start_time": "2022-05-31T10:41:36.566721",
     "status": "completed"
    },
    "tags": []
   },
   "outputs": [
    {
     "data": {
      "text/plain": [
       "Text(0, 0.5, 'Explained Variance')"
      ]
     },
     "execution_count": 6,
     "metadata": {},
     "output_type": "execute_result"
    },
    {
     "data": {
      "image/png": "[encoded data removed]",
      "text/plain": [
       "<Figure size 432x288 with 1 Axes>"
      ]
     },
     "metadata": {},
     "output_type": "display_data"
    }
   ],
   "source": [
    "np.cumsum(pca_1776.explained_variance_ratio_*100)[515] ### 515 features captures 95% of the variability in the data\n",
    "plt.plot(np.cumsum(pca_1776.explained_variance_ratio_*100))\n",
    "plt.xlabel(\"Number of components\")\n",
    "plt.ylabel(\"Explained Variance\")"
   ]
  },
  {
   "cell_type": "code",
   "execution_count": 7,
   "id": "aa204d0b",
   "metadata": {
    "execution": {
     "iopub.execute_input": "2022-05-31T10:41:36.889380Z",
     "iopub.status.busy": "2022-05-31T10:41:36.888802Z",
     "iopub.status.idle": "2022-05-31T10:41:44.702530Z",
     "shell.execute_reply": "2022-05-31T10:41:44.701743Z"
    },
    "papermill": {
     "duration": 7.834172,
     "end_time": "2022-05-31T10:41:44.704722",
     "exception": false,
     "start_time": "2022-05-31T10:41:36.870550",
     "status": "completed"
    },
    "tags": []
   },
   "outputs": [
    {
     "data": {
      "image/png": "[encoded data removed]",
      "text/plain": [
       "<Figure size 432x288 with 1 Axes>"
      ]
     },
     "metadata": {},
     "output_type": "display_data"
    }
   ],
   "source": [
    "pca_515 = PCA(n_components=515)\n",
    "pca_515.fit(X_scaled)\n",
    "X_scaled_515 = pca_515.transform(X_scaled)\n",
    "X_test_scaled_515 = pca_515.transform(X_test_scaled)\n",
    "plt.plot(X_scaled_515);"
   ]
  },
  {
   "cell_type": "code",
   "execution_count": 8,
   "id": "1dd89fd5",
   "metadata": {
    "execution": {
     "iopub.execute_input": "2022-05-31T10:41:44.744750Z",
     "iopub.status.busy": "2022-05-31T10:41:44.744506Z",
     "iopub.status.idle": "2022-05-31T10:41:44.751380Z",
     "shell.execute_reply": "2022-05-31T10:41:44.750487Z"
    },
    "papermill": {
     "duration": 0.029295,
     "end_time": "2022-05-31T10:41:44.753197",
     "exception": false,
     "start_time": "2022-05-31T10:41:44.723902",
     "status": "completed"
    },
    "tags": []
   },
   "outputs": [
    {
     "data": {
      "text/plain": [
       "(3751, 515)"
      ]
     },
     "execution_count": 8,
     "metadata": {},
     "output_type": "execute_result"
    }
   ],
   "source": [
    "new_df = pd.DataFrame(X_scaled_515, columns=[('PCA'+'{}').format(i) for i in range(1,516)] )\n",
    "new_df.shape"
   ]
  },
  {
   "cell_type": "code",
   "execution_count": 9,
   "id": "05100da9",
   "metadata": {
    "execution": {
     "iopub.execute_input": "2022-05-31T10:41:44.793259Z",
     "iopub.status.busy": "2022-05-31T10:41:44.792973Z",
     "iopub.status.idle": "2022-05-31T10:42:06.932722Z",
     "shell.execute_reply": "2022-05-31T10:42:06.931853Z"
    },
    "papermill": {
     "duration": 22.162774,
     "end_time": "2022-05-31T10:42:06.934949",
     "exception": false,
     "start_time": "2022-05-31T10:41:44.772175",
     "status": "completed"
    },
    "tags": []
   },
   "outputs": [
    {
     "name": "stdout",
     "output_type": "stream",
     "text": [
      "0.7750533049040512\n"
     ]
    }
   ],
   "source": [
    "X_train,X_valid, y_train,y_valid = train_test_split(new_df,Y,test_size=0.25, random_state=42)\n",
    "rf = RandomForestClassifier(n_estimators=500, max_depth=25, min_samples_split=5)\n",
    "rf.fit(X_train,y_train)\n",
    "print(accuracy_score(rf.predict(X_valid), y_valid))"
   ]
  },
  {
   "cell_type": "code",
   "execution_count": null,
   "id": "dc93016c",
   "metadata": {
    "papermill": {
     "duration": 0.018347,
     "end_time": "2022-05-31T10:42:06.972612",
     "exception": false,
     "start_time": "2022-05-31T10:42:06.954265",
     "status": "completed"
    },
    "tags": []
   },
   "outputs": [],
   "source": []
  },
  {
   "cell_type": "code",
   "execution_count": 10,
   "id": "0075786b",
   "metadata": {
    "execution": {
     "iopub.execute_input": "2022-05-31T10:42:07.012835Z",
     "iopub.status.busy": "2022-05-31T10:42:07.012498Z",
     "iopub.status.idle": "2022-05-31T10:42:38.381345Z",
     "shell.execute_reply": "2022-05-31T10:42:38.380621Z"
    },
    "papermill": {
     "duration": 31.391972,
     "end_time": "2022-05-31T10:42:38.383721",
     "exception": false,
     "start_time": "2022-05-31T10:42:06.991749",
     "status": "completed"
    },
    "tags": []
   },
   "outputs": [
    {
     "name": "stderr",
     "output_type": "stream",
     "text": [
      "/opt/conda/lib/python3.7/site-packages/sklearn/base.py:451: UserWarning: X does not have valid feature names, but RandomForestClassifier was fitted with feature names\n",
      "  \"X does not have valid feature names, but\"\n"
     ]
    }
   ],
   "source": [
    "rf2 = RandomForestClassifier(n_estimators=500, max_depth=25, min_samples_split=5)\n",
    "rf2.fit(new_df,Y)\n",
    "pred = rf2.predict_proba(X_test_scaled_515)"
   ]
  },
  {
   "cell_type": "code",
   "execution_count": 11,
   "id": "0baffb69",
   "metadata": {
    "execution": {
     "iopub.execute_input": "2022-05-31T10:42:38.425076Z",
     "iopub.status.busy": "2022-05-31T10:42:38.424377Z",
     "iopub.status.idle": "2022-05-31T10:42:38.439886Z",
     "shell.execute_reply": "2022-05-31T10:42:38.439305Z"
    },
    "papermill": {
     "duration": 0.038267,
     "end_time": "2022-05-31T10:42:38.441991",
     "exception": false,
     "start_time": "2022-05-31T10:42:38.403724",
     "status": "completed"
    },
    "tags": []
   },
   "outputs": [],
   "source": [
    "\n",
    "submission = pd.DataFrame({'MoleculeId': range(1,df_test.shape[0]+1),\n",
    "                        'PredictedProbability': pred[:,1]})\n",
    "submission.to_csv('submission.csv', index=False)"
   ]
  },
  {
   "cell_type": "code",
   "execution_count": 12,
   "id": "84b09a4a",
   "metadata": {
    "execution": {
     "iopub.execute_input": "2022-05-31T10:42:38.485340Z",
     "iopub.status.busy": "2022-05-31T10:42:38.484893Z",
     "iopub.status.idle": "2022-05-31T10:42:38.499646Z",
     "shell.execute_reply": "2022-05-31T10:42:38.498963Z"
    },
    "papermill": {
     "duration": 0.037684,
     "end_time": "2022-05-31T10:42:38.501477",
     "exception": false,
     "start_time": "2022-05-31T10:42:38.463793",
     "status": "completed"
    },
    "tags": []
   },
   "outputs": [
    {
     "data": {
      "text/html": [
       "<div>\n",
       "<style scoped>\n",
       "    .dataframe tbody tr th:only-of-type {\n",
       "        vertical-align: middle;\n",
       "    }\n",
       "\n",
       "    .dataframe tbody tr th {\n",
       "        vertical-align: top;\n",
       "    }\n",
       "\n",
       "    .dataframe thead th {\n",
       "        text-align: right;\n",
       "    }\n",
       "</style>\n",
       "<table border=\"1\" class=\"dataframe\">\n",
       "  <thead>\n",
       "    <tr style=\"text-align: right;\">\n",
       "      <th></th>\n",
       "      <th>MoleculeId</th>\n",
       "      <th>PredictedProbability</th>\n",
       "    </tr>\n",
       "  </thead>\n",
       "  <tbody>\n",
       "    <tr>\n",
       "      <th>0</th>\n",
       "      <td>1</td>\n",
       "      <td>0.598302</td>\n",
       "    </tr>\n",
       "    <tr>\n",
       "      <th>1</th>\n",
       "      <td>2</td>\n",
       "      <td>0.595532</td>\n",
       "    </tr>\n",
       "    <tr>\n",
       "      <th>2</th>\n",
       "      <td>3</td>\n",
       "      <td>0.672033</td>\n",
       "    </tr>\n",
       "    <tr>\n",
       "      <th>3</th>\n",
       "      <td>4</td>\n",
       "      <td>0.865886</td>\n",
       "    </tr>\n",
       "    <tr>\n",
       "      <th>4</th>\n",
       "      <td>5</td>\n",
       "      <td>0.309450</td>\n",
       "    </tr>\n",
       "    <tr>\n",
       "      <th>...</th>\n",
       "      <td>...</td>\n",
       "      <td>...</td>\n",
       "    </tr>\n",
       "    <tr>\n",
       "      <th>2496</th>\n",
       "      <td>2497</td>\n",
       "      <td>0.388584</td>\n",
       "    </tr>\n",
       "    <tr>\n",
       "      <th>2497</th>\n",
       "      <td>2498</td>\n",
       "      <td>0.388114</td>\n",
       "    </tr>\n",
       "    <tr>\n",
       "      <th>2498</th>\n",
       "      <td>2499</td>\n",
       "      <td>0.843248</td>\n",
       "    </tr>\n",
       "    <tr>\n",
       "      <th>2499</th>\n",
       "      <td>2500</td>\n",
       "      <td>0.695149</td>\n",
       "    </tr>\n",
       "    <tr>\n",
       "      <th>2500</th>\n",
       "      <td>2501</td>\n",
       "      <td>0.464242</td>\n",
       "    </tr>\n",
       "  </tbody>\n",
       "</table>\n",
       "<p>2501 rows × 2 columns</p>\n",
       "</div>"
      ],
      "text/plain": [
       "      MoleculeId  PredictedProbability\n",
       "0              1              0.598302\n",
       "1              2              0.595532\n",
       "2              3              0.672033\n",
       "3              4              0.865886\n",
       "4              5              0.309450\n",
       "...          ...                   ...\n",
       "2496        2497              0.388584\n",
       "2497        2498              0.388114\n",
       "2498        2499              0.843248\n",
       "2499        2500              0.695149\n",
       "2500        2501              0.464242\n",
       "\n",
       "[2501 rows x 2 columns]"
      ]
     },
     "execution_count": 12,
     "metadata": {},
     "output_type": "execute_result"
    }
   ],
   "source": [
    "submission"
   ]
  },
  {
   "cell_type": "code",
   "execution_count": null,
   "id": "17be558d",
   "metadata": {
    "papermill": {
     "duration": 0.020585,
     "end_time": "2022-05-31T10:42:38.542896",
     "exception": false,
     "start_time": "2022-05-31T10:42:38.522311",
     "status": "completed"
    },
    "tags": []
   },
   "outputs": [],
   "source": []
  }
 ],
 "metadata": {
  "kernelspec": {
   "display_name": "Python 3",
   "language": "python",
   "name": "python3"
  },
  "language_info": {
   "codemirror_mode": {
    "name": "ipython",
    "version": 3
   },
   "file_extension": ".py",
   "mimetype": "text/x-python",
   "name": "python",
   "nbconvert_exporter": "python",
   "pygments_lexer": "ipython3",
   "version": "3.7.12"
  },
  "papermill": {
   "default_parameters": {},
   "duration": 80.563294,
   "end_time": "2022-05-31T10:42:39.384269",
   "environment_variables": {},
   "exception": null,
   "input_path": "__notebook__.ipynb",
   "output_path": "__notebook__.ipynb",
   "parameters": {},
   "start_time": "2022-05-31T10:41:18.820975",
   "version": "2.3.4"
  }
 },
 "nbformat": 4,
 "nbformat_minor": 5
}
